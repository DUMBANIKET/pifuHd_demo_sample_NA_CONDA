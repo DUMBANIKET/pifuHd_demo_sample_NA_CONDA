{
 "cells": [
  {
   "cell_type": "code",
   "execution_count": 84,
   "id": "1f6e9995-b9ad-4f4e-801c-2eb0b1661d22",
   "metadata": {
    "tags": []
   },
   "outputs": [
    {
     "name": "stdout",
     "output_type": "stream",
     "text": [
      "Requirement already satisfied: opencv-python in /opt/conda/envs/sagemaker-distribution/lib/python3.8/site-packages (4.8.0.76)\n",
      "Requirement already satisfied: numpy>=1.17.0 in /opt/conda/envs/sagemaker-distribution/lib/python3.8/site-packages (from opencv-python) (1.24.4)\n",
      "Requirement already satisfied: pycocotools in /opt/conda/envs/sagemaker-distribution/lib/python3.8/site-packages (2.0.7)\n",
      "Requirement already satisfied: matplotlib>=2.1.0 in /opt/conda/envs/sagemaker-distribution/lib/python3.8/site-packages (from pycocotools) (3.7.2)\n",
      "Requirement already satisfied: numpy in /opt/conda/envs/sagemaker-distribution/lib/python3.8/site-packages (from pycocotools) (1.24.4)\n",
      "Requirement already satisfied: contourpy>=1.0.1 in /opt/conda/envs/sagemaker-distribution/lib/python3.8/site-packages (from matplotlib>=2.1.0->pycocotools) (1.1.0)\n",
      "Requirement already satisfied: cycler>=0.10 in /opt/conda/envs/sagemaker-distribution/lib/python3.8/site-packages (from matplotlib>=2.1.0->pycocotools) (0.11.0)\n",
      "Requirement already satisfied: fonttools>=4.22.0 in /opt/conda/envs/sagemaker-distribution/lib/python3.8/site-packages (from matplotlib>=2.1.0->pycocotools) (4.42.0)\n",
      "Requirement already satisfied: kiwisolver>=1.0.1 in /opt/conda/envs/sagemaker-distribution/lib/python3.8/site-packages (from matplotlib>=2.1.0->pycocotools) (1.4.4)\n",
      "Requirement already satisfied: packaging>=20.0 in /opt/conda/envs/sagemaker-distribution/lib/python3.8/site-packages (from matplotlib>=2.1.0->pycocotools) (23.1)\n",
      "Requirement already satisfied: pillow>=6.2.0 in /opt/conda/envs/sagemaker-distribution/lib/python3.8/site-packages (from matplotlib>=2.1.0->pycocotools) (10.0.0)\n",
      "Requirement already satisfied: pyparsing<3.1,>=2.3.1 in /opt/conda/envs/sagemaker-distribution/lib/python3.8/site-packages (from matplotlib>=2.1.0->pycocotools) (3.0.9)\n",
      "Requirement already satisfied: python-dateutil>=2.7 in /opt/conda/envs/sagemaker-distribution/lib/python3.8/site-packages (from matplotlib>=2.1.0->pycocotools) (2.8.2)\n",
      "Requirement already satisfied: importlib-resources>=3.2.0 in /opt/conda/envs/sagemaker-distribution/lib/python3.8/site-packages (from matplotlib>=2.1.0->pycocotools) (6.0.1)\n",
      "Requirement already satisfied: zipp>=3.1.0 in /opt/conda/envs/sagemaker-distribution/lib/python3.8/site-packages (from importlib-resources>=3.2.0->matplotlib>=2.1.0->pycocotools) (3.16.2)\n",
      "Requirement already satisfied: six>=1.5 in /opt/conda/envs/sagemaker-distribution/lib/python3.8/site-packages (from python-dateutil>=2.7->matplotlib>=2.1.0->pycocotools) (1.16.0)\n"
     ]
    }
   ],
   "source": [
    "!pip install opencv-python \n",
    "!pip install pycocotools"
   ]
  },
  {
   "cell_type": "code",
   "execution_count": 85,
   "id": "15ee9957-0d89-4869-a8ee-e97a5c73d321",
   "metadata": {
    "tags": []
   },
   "outputs": [],
   "source": [
    "import cv2\n",
    "import pycocotools"
   ]
  },
  {
   "cell_type": "code",
   "execution_count": 86,
   "id": "39d4dd85-61bb-42f3-87a5-64480ec5ff07",
   "metadata": {
    "tags": []
   },
   "outputs": [
    {
     "name": "stdout",
     "output_type": "stream",
     "text": [
      "fatal: destination path 'pifuhd' already exists and is not an empty directory.\n"
     ]
    }
   ],
   "source": [
    "!git clone https://github.com/facebookresearch/pifuhd"
   ]
  },
  {
   "cell_type": "code",
   "execution_count": 87,
   "id": "38d7b007-b35f-422a-8616-af45785e46c7",
   "metadata": {
    "tags": []
   },
   "outputs": [
    {
     "name": "stdout",
     "output_type": "stream",
     "text": [
      "/home/studio-lab-user/pfiuhd/pifuhd\n"
     ]
    }
   ],
   "source": [
    "%%bash \n",
    "pwd"
   ]
  },
  {
   "cell_type": "code",
   "execution_count": 88,
   "id": "470a88ac-75fa-4a47-a998-4724db50441e",
   "metadata": {
    "tags": []
   },
   "outputs": [],
   "source": [
    "import os\n",
    "\n",
    "try:\n",
    "  image_path = '/home/studio-lab-user/pfiuhd/pifuhd/sample_images/%s' % filename\n",
    "except:\n",
    "  image_path = '/home/studio-lab-user/pfiuhd/pifuhd/sample_images/test.png' # example image\n",
    "image_dir = os.path.dirname(image_path)\n",
    "file_name = os.path.splitext(os.path.basename(image_path))[0]\n",
    "\n",
    "# output pathes\n",
    "obj_path = '/home/studio-lab-user/pfiuhd/pifuhd/results/pifuhd_final/recon/result_%s_256.obj' % file_name\n",
    "out_img_path = '/home/studio-lab-user/pfiuhd/pifuhd/results/pifuhd_final/recon/result_%s_256.png' % file_name\n",
    "video_path = '/home/studio-lab-user/pfiuhd/pifuhd/results/pifuhd_final/recon/result_%s_256.mp4' % file_name\n",
    "video_display_path = '/home/studio-lab-user/pfiuhd/pifuhd/results/pifuhd_final/recon/result_%s_256_display.mp4' % file_name"
   ]
  },
  {
   "cell_type": "code",
   "execution_count": null,
   "id": "654509ea-4c6c-45a6-a791-da3b605cd59c",
   "metadata": {
    "tags": []
   },
   "outputs": [],
   "source": []
  },
  {
   "cell_type": "code",
   "execution_count": 89,
   "id": "3ffd409c-6663-4529-ae77-3b7bb659da84",
   "metadata": {
    "tags": []
   },
   "outputs": [
    {
     "name": "stdout",
     "output_type": "stream",
     "text": [
      "fatal: destination path 'lightweight-human-pose-estimation.pytorch' already exists and is not an empty directory.\n"
     ]
    }
   ],
   "source": [
    "!git clone https://github.com/Daniil-Osokin/lightweight-human-pose-estimation.pytorch.git"
   ]
  },
  {
   "cell_type": "code",
   "execution_count": 90,
   "id": "f853fd9d-0706-416a-b798-3c68bb38cd8c",
   "metadata": {
    "tags": []
   },
   "outputs": [
    {
     "name": "stdout",
     "output_type": "stream",
     "text": [
      "/home/studio-lab-user/pfiuhd/pifuhd/lightweight-human-pose-estimation.pytorch\n"
     ]
    }
   ],
   "source": [
    "cd lightweight-human-pose-estimation.pytorch/"
   ]
  },
  {
   "cell_type": "code",
   "execution_count": 91,
   "id": "f4b55da7-6c44-42cf-a0a2-15cf23b470f9",
   "metadata": {
    "tags": []
   },
   "outputs": [
    {
     "name": "stdout",
     "output_type": "stream",
     "text": [
      "--2023-08-29 03:16:23--  https://download.01.org/opencv/openvino_training_extensions/models/human_pose_estimation/checkpoint_iter_370000.pth\n",
      "Resolving download.01.org (download.01.org)... 184.29.182.183, 2600:1407:7800:398::4b21, 2600:1407:7800:38c::4b21\n",
      "Connecting to download.01.org (download.01.org)|184.29.182.183|:443... connected.\n",
      "HTTP request sent, awaiting response... 200 OK\n",
      "Length: 87959810 (84M) [application/octet-stream]\n",
      "Saving to: 'checkpoint_iter_370000.pth.15'\n",
      "\n",
      "checkpoint_iter_370 100%[===================>]  83.88M  56.9MB/s    in 1.5s    \n",
      "\n",
      "2023-08-29 03:16:25 (56.9 MB/s) - 'checkpoint_iter_370000.pth.15' saved [87959810/87959810]\n",
      "\n"
     ]
    }
   ],
   "source": [
    "!wget https://download.01.org/opencv/openvino_training_extensions/models/human_pose_estimation/checkpoint_iter_370000.pth"
   ]
  },
  {
   "cell_type": "code",
   "execution_count": 92,
   "id": "c974b31b-8ae5-47b4-900d-9983d566d5cc",
   "metadata": {
    "tags": []
   },
   "outputs": [],
   "source": [
    "import torch\n",
    "import cv2\n",
    "import numpy as np\n",
    "from models.with_mobilenet import PoseEstimationWithMobileNet\n",
    "from modules.keypoints import extract_keypoints, group_keypoints\n",
    "from modules.load_state import load_state\n",
    "from modules.pose import Pose, track_poses\n",
    "import demo\n",
    "\n",
    "def get_rect(net, images, height_size):\n",
    "    net = net.eval()\n",
    "\n",
    "    stride = 8\n",
    "    upsample_ratio = 4\n",
    "    num_keypoints = Pose.num_kpts\n",
    "    previous_poses = []\n",
    "    delay = 33\n",
    "    for image in images:\n",
    "        rect_path = image.replace('.%s' % (image.split('.')[-1]), '_rect.txt')\n",
    "        img = cv2.imread(image, cv2.IMREAD_COLOR)\n",
    "        orig_img = img.copy()\n",
    "        orig_img = img.copy()\n",
    "        heatmaps, pafs, scale, pad = demo.infer_fast(net, img, height_size, stride, upsample_ratio, cpu=False)\n",
    "\n",
    "        total_keypoints_num = 0\n",
    "        all_keypoints_by_type = []\n",
    "        for kpt_idx in range(num_keypoints):  # 19th for bg\n",
    "            total_keypoints_num += extract_keypoints(heatmaps[:, :, kpt_idx], all_keypoints_by_type, total_keypoints_num)\n",
    "\n",
    "        pose_entries, all_keypoints = group_keypoints(all_keypoints_by_type, pafs)\n",
    "        for kpt_id in range(all_keypoints.shape[0]):\n",
    "            all_keypoints[kpt_id, 0] = (all_keypoints[kpt_id, 0] * stride / upsample_ratio - pad[1]) / scale\n",
    "            all_keypoints[kpt_id, 1] = (all_keypoints[kpt_id, 1] * stride / upsample_ratio - pad[0]) / scale\n",
    "        current_poses = []\n",
    "\n",
    "        rects = []\n",
    "        for n in range(len(pose_entries)):\n",
    "            if len(pose_entries[n]) == 0:\n",
    "                continue\n",
    "            pose_keypoints = np.ones((num_keypoints, 2), dtype=np.int32) * -1\n",
    "            valid_keypoints = []\n",
    "            for kpt_id in range(num_keypoints):\n",
    "                if pose_entries[n][kpt_id] != -1.0:  # keypoint was found\n",
    "                    pose_keypoints[kpt_id, 0] = int(all_keypoints[int(pose_entries[n][kpt_id]), 0])\n",
    "                    pose_keypoints[kpt_id, 1] = int(all_keypoints[int(pose_entries[n][kpt_id]), 1])\n",
    "                    valid_keypoints.append([pose_keypoints[kpt_id, 0], pose_keypoints[kpt_id, 1]])\n",
    "            valid_keypoints = np.array(valid_keypoints)\n",
    "            \n",
    "            if pose_entries[n][10] != -1.0 or pose_entries[n][13] != -1.0:\n",
    "              pmin = valid_keypoints.min(0)\n",
    "              pmax = valid_keypoints.max(0)\n",
    "\n",
    "              center = (0.5 * (pmax[:2] + pmin[:2])).astype(np.int64)\n",
    "              radius = int(0.65 * max(pmax[0]-pmin[0], pmax[1]-pmin[1]))\n",
    "            elif pose_entries[n][10] == -1.0 and pose_entries[n][13] == -1.0 and pose_entries[n][8] != -1.0 and pose_entries[n][11] != -1.0:\n",
    "              # if leg is missing, use pelvis to get cropping\n",
    "              center = (0.5 * (pose_keypoints[8] + pose_keypoints[11])).astype(np.int64)\n",
    "              radius = int(1.45*np.sqrt(((center[None,:] - valid_keypoints)**2).sum(1)).max(0))\n",
    "              center[1] += int(0.05*radius)\n",
    "            else:\n",
    "              center = np.array([img.shape[1]//2,img.shape[0]//2])\n",
    "              radius = max(img.shape[1]//2,img.shape[0]//2)\n",
    "\n",
    "            x1 = center[0] - radius\n",
    "            y1 = center[1] - radius\n",
    "\n",
    "            rects.append([x1, y1, 2*radius, 2*radius])\n",
    "\n",
    "        np.savetxt(rect_path, np.array(rects), fmt='%d')\n",
    "\n",
    "\n"
   ]
  },
  {
   "cell_type": "code",
   "execution_count": 93,
   "id": "f82f41fd-b089-4695-968b-2d6be47a7c32",
   "metadata": {
    "tags": []
   },
   "outputs": [
    {
     "name": "stdout",
     "output_type": "stream",
     "text": [
      "/home/studio-lab-user/pfiuhd/lightweight-human-pose-estimation.pytorch\n"
     ]
    }
   ],
   "source": [
    "\n",
    "cd /home/studio-lab-user/pfiuhd/lightweight-human-pose-estimation.pytorch "
   ]
  },
  {
   "cell_type": "code",
   "execution_count": 94,
   "id": "81bee37b-1f1c-4bf2-8ac4-b483bc4ae8e1",
   "metadata": {
    "tags": []
   },
   "outputs": [],
   "source": [
    "net = PoseEstimationWithMobileNet()\n",
    "checkpoint = torch.load('checkpoint_iter_370000.pth', map_location='cpu')\n",
    "load_state(net, checkpoint)\n",
    "\n",
    "get_rect(net.cuda(), [image_path], 512)"
   ]
  },
  {
   "cell_type": "code",
   "execution_count": 95,
   "id": "c631160c-ce56-47b6-9397-040ed279f753",
   "metadata": {
    "tags": []
   },
   "outputs": [
    {
     "name": "stdout",
     "output_type": "stream",
     "text": [
      "sh: 0: Can't open ./scripts/download_trained_model.sh\n"
     ]
    }
   ],
   "source": [
    "!sh ./scripts/download_trained_model.sh"
   ]
  },
  {
   "cell_type": "code",
   "execution_count": 96,
   "id": "e05bddde-d939-446a-9a3e-dc0bfd5ef89e",
   "metadata": {
    "tags": []
   },
   "outputs": [
    {
     "name": "stdout",
     "output_type": "stream",
     "text": [
      "Requirement already satisfied: scikit-image in /opt/conda/envs/sagemaker-distribution/lib/python3.8/site-packages (0.21.0)\n",
      "Requirement already satisfied: numpy>=1.21.1 in /opt/conda/envs/sagemaker-distribution/lib/python3.8/site-packages (from scikit-image) (1.24.4)\n",
      "Requirement already satisfied: scipy>=1.8 in /opt/conda/envs/sagemaker-distribution/lib/python3.8/site-packages (from scikit-image) (1.10.1)\n",
      "Requirement already satisfied: networkx>=2.8 in /opt/conda/envs/sagemaker-distribution/lib/python3.8/site-packages (from scikit-image) (3.1)\n",
      "Requirement already satisfied: pillow>=9.0.1 in /opt/conda/envs/sagemaker-distribution/lib/python3.8/site-packages (from scikit-image) (10.0.0)\n",
      "Requirement already satisfied: imageio>=2.27 in /opt/conda/envs/sagemaker-distribution/lib/python3.8/site-packages (from scikit-image) (2.31.2)\n",
      "Requirement already satisfied: tifffile>=2022.8.12 in /opt/conda/envs/sagemaker-distribution/lib/python3.8/site-packages (from scikit-image) (2023.7.10)\n",
      "Requirement already satisfied: PyWavelets>=1.1.1 in /opt/conda/envs/sagemaker-distribution/lib/python3.8/site-packages (from scikit-image) (1.4.1)\n",
      "Requirement already satisfied: packaging>=21 in /opt/conda/envs/sagemaker-distribution/lib/python3.8/site-packages (from scikit-image) (23.1)\n",
      "Requirement already satisfied: lazy_loader>=0.2 in /opt/conda/envs/sagemaker-distribution/lib/python3.8/site-packages (from scikit-image) (0.3)\n"
     ]
    }
   ],
   "source": [
    "!pip install scikit-image"
   ]
  },
  {
   "cell_type": "code",
   "execution_count": 97,
   "id": "b9346759-29bf-4f58-9c3b-dafb21d385a5",
   "metadata": {
    "tags": []
   },
   "outputs": [],
   "source": [
    "import skimage"
   ]
  },
  {
   "cell_type": "code",
   "execution_count": 98,
   "id": "f413e342-2a93-4533-a437-530ba1e32d04",
   "metadata": {
    "tags": []
   },
   "outputs": [
    {
     "name": "stdout",
     "output_type": "stream",
     "text": [
      "/home/studio-lab-user/pfiuhd/pifuhd\n"
     ]
    }
   ],
   "source": [
    "cd /home/studio-lab-user/pfiuhd/pifuhd/"
   ]
  },
  {
   "cell_type": "code",
   "execution_count": 99,
   "id": "2ed89192-2980-43dd-86f1-560525db17b5",
   "metadata": {
    "tags": []
   },
   "outputs": [
    {
     "name": "stdout",
     "output_type": "stream",
     "text": [
      "Resuming from  ./checkpoints/pifuhd.pt\n",
      "Warning: opt is overwritten.\n",
      "test data size:  1\n",
      "initialize network with normal\n",
      "initialize network with normal\n",
      "generate mesh (test) ...\n",
      "  0%|                                                     | 0/1 [00:00<?, ?it/s]./results/pifuhd_final/recon/result_test_256.obj\n",
      "/home/studio-lab-user/pfiuhd/pifuhd/lib/sdf.py:93: FutureWarning: In the future `np.bool` will be defined as the corresponding NumPy scalar.\n",
      "  notprocessed = np.zeros(resolution, dtype=np.bool)\n",
      "module 'numpy' has no attribute 'bool'.\n",
      "`np.bool` was a deprecated alias for the builtin `bool`. To avoid this error in existing code, use `bool` by itself. Doing this will not modify any behavior and is safe. If you specifically wanted the numpy scalar type, use `np.bool_` here.\n",
      "The aliases was originally deprecated in NumPy 1.20; for more details and guidance see the original release note at:\n",
      "    https://numpy.org/devdocs/release/1.20.0-notes.html#deprecations\n",
      "100%|█████████████████████████████████████████████| 1/1 [00:04<00:00,  4.30s/it]\n"
     ]
    }
   ],
   "source": [
    "!python -m apps.simple_test -r 256 --use_rect -i $image_dir"
   ]
  },
  {
   "cell_type": "code",
   "execution_count": 100,
   "id": "87d7b74a-5b01-4124-ab6f-90924e08f292",
   "metadata": {
    "tags": []
   },
   "outputs": [
    {
     "name": "stdout",
     "output_type": "stream",
     "text": [
      "Requirement already satisfied: pytorch3d in /opt/conda/envs/sagemaker-distribution/lib/python3.8/site-packages (0.3.0)\n",
      "Requirement already satisfied: torchvision>=0.4 in /opt/conda/envs/sagemaker-distribution/lib/python3.8/site-packages (from pytorch3d) (0.15.2a0+072ec57)\n",
      "Requirement already satisfied: fvcore in /opt/conda/envs/sagemaker-distribution/lib/python3.8/site-packages (from pytorch3d) (0.1.5.post20221221)\n",
      "Requirement already satisfied: numpy in /opt/conda/envs/sagemaker-distribution/lib/python3.8/site-packages (from torchvision>=0.4->pytorch3d) (1.24.4)\n",
      "Requirement already satisfied: requests in /opt/conda/envs/sagemaker-distribution/lib/python3.8/site-packages (from torchvision>=0.4->pytorch3d) (2.31.0)\n",
      "Requirement already satisfied: torch in /opt/conda/envs/sagemaker-distribution/lib/python3.8/site-packages (from torchvision>=0.4->pytorch3d) (2.0.0.post200)\n",
      "Requirement already satisfied: pillow!=8.3.*,>=5.3.0 in /opt/conda/envs/sagemaker-distribution/lib/python3.8/site-packages (from torchvision>=0.4->pytorch3d) (10.0.0)\n",
      "Requirement already satisfied: yacs>=0.1.6 in /opt/conda/envs/sagemaker-distribution/lib/python3.8/site-packages (from fvcore->pytorch3d) (0.1.8)\n",
      "Requirement already satisfied: pyyaml>=5.1 in /opt/conda/envs/sagemaker-distribution/lib/python3.8/site-packages (from fvcore->pytorch3d) (6.0)\n",
      "Requirement already satisfied: tqdm in /opt/conda/envs/sagemaker-distribution/lib/python3.8/site-packages (from fvcore->pytorch3d) (4.65.0)\n",
      "Requirement already satisfied: termcolor>=1.1 in /opt/conda/envs/sagemaker-distribution/lib/python3.8/site-packages (from fvcore->pytorch3d) (2.3.0)\n",
      "Requirement already satisfied: tabulate in /opt/conda/envs/sagemaker-distribution/lib/python3.8/site-packages (from fvcore->pytorch3d) (0.9.0)\n",
      "Requirement already satisfied: iopath>=0.1.7 in /opt/conda/envs/sagemaker-distribution/lib/python3.8/site-packages (from fvcore->pytorch3d) (0.1.10)\n",
      "Requirement already satisfied: typing-extensions in /opt/conda/envs/sagemaker-distribution/lib/python3.8/site-packages (from iopath>=0.1.7->fvcore->pytorch3d) (4.5.0)\n",
      "Requirement already satisfied: portalocker in /opt/conda/envs/sagemaker-distribution/lib/python3.8/site-packages (from iopath>=0.1.7->fvcore->pytorch3d) (2.7.0)\n",
      "Requirement already satisfied: charset-normalizer<4,>=2 in /opt/conda/envs/sagemaker-distribution/lib/python3.8/site-packages (from requests->torchvision>=0.4->pytorch3d) (3.2.0)\n",
      "Requirement already satisfied: idna<4,>=2.5 in /opt/conda/envs/sagemaker-distribution/lib/python3.8/site-packages (from requests->torchvision>=0.4->pytorch3d) (3.4)\n",
      "Requirement already satisfied: urllib3<3,>=1.21.1 in /opt/conda/envs/sagemaker-distribution/lib/python3.8/site-packages (from requests->torchvision>=0.4->pytorch3d) (1.26.15)\n",
      "Requirement already satisfied: certifi>=2017.4.17 in /opt/conda/envs/sagemaker-distribution/lib/python3.8/site-packages (from requests->torchvision>=0.4->pytorch3d) (2023.7.22)\n",
      "Requirement already satisfied: filelock in /opt/conda/envs/sagemaker-distribution/lib/python3.8/site-packages (from torch->torchvision>=0.4->pytorch3d) (3.12.2)\n",
      "Requirement already satisfied: sympy in /opt/conda/envs/sagemaker-distribution/lib/python3.8/site-packages (from torch->torchvision>=0.4->pytorch3d) (1.12)\n",
      "Requirement already satisfied: networkx in /opt/conda/envs/sagemaker-distribution/lib/python3.8/site-packages (from torch->torchvision>=0.4->pytorch3d) (3.1)\n",
      "Requirement already satisfied: jinja2 in /opt/conda/envs/sagemaker-distribution/lib/python3.8/site-packages (from torch->torchvision>=0.4->pytorch3d) (3.1.2)\n",
      "Requirement already satisfied: MarkupSafe>=2.0 in /opt/conda/envs/sagemaker-distribution/lib/python3.8/site-packages (from jinja2->torch->torchvision>=0.4->pytorch3d) (2.1.3)\n",
      "Requirement already satisfied: mpmath>=0.19 in /opt/conda/envs/sagemaker-distribution/lib/python3.8/site-packages (from sympy->torch->torchvision>=0.4->pytorch3d) (1.3.0)\n"
     ]
    }
   ],
   "source": [
    "!pip install pytorch3d "
   ]
  },
  {
   "cell_type": "code",
   "execution_count": 101,
   "id": "1f3ee415-8717-417d-9daf-cbd6e87a9b60",
   "metadata": {
    "tags": []
   },
   "outputs": [
    {
     "name": "stdout",
     "output_type": "stream",
     "text": [
      "Requirement already satisfied: fvcore in /opt/conda/envs/sagemaker-distribution/lib/python3.8/site-packages (0.1.5.post20221221)\n",
      "Requirement already satisfied: iopath in /opt/conda/envs/sagemaker-distribution/lib/python3.8/site-packages (0.1.10)\n",
      "Requirement already satisfied: numpy in /opt/conda/envs/sagemaker-distribution/lib/python3.8/site-packages (from fvcore) (1.24.4)\n",
      "Requirement already satisfied: yacs>=0.1.6 in /opt/conda/envs/sagemaker-distribution/lib/python3.8/site-packages (from fvcore) (0.1.8)\n",
      "Requirement already satisfied: pyyaml>=5.1 in /opt/conda/envs/sagemaker-distribution/lib/python3.8/site-packages (from fvcore) (6.0)\n",
      "Requirement already satisfied: tqdm in /opt/conda/envs/sagemaker-distribution/lib/python3.8/site-packages (from fvcore) (4.65.0)\n",
      "Requirement already satisfied: termcolor>=1.1 in /opt/conda/envs/sagemaker-distribution/lib/python3.8/site-packages (from fvcore) (2.3.0)\n",
      "Requirement already satisfied: Pillow in /opt/conda/envs/sagemaker-distribution/lib/python3.8/site-packages (from fvcore) (10.0.0)\n",
      "Requirement already satisfied: tabulate in /opt/conda/envs/sagemaker-distribution/lib/python3.8/site-packages (from fvcore) (0.9.0)\n",
      "Requirement already satisfied: typing-extensions in /opt/conda/envs/sagemaker-distribution/lib/python3.8/site-packages (from iopath) (4.5.0)\n",
      "Requirement already satisfied: portalocker in /opt/conda/envs/sagemaker-distribution/lib/python3.8/site-packages (from iopath) (2.7.0)\n",
      "Looking in links: https://dl.fbaipublicfiles.com/pytorch3d/packaging/wheels/py38_cu112_pyt200post200/download.html\n",
      "Requirement already satisfied: pytorch3d in /opt/conda/envs/sagemaker-distribution/lib/python3.8/site-packages (0.3.0)\n",
      "Requirement already satisfied: torchvision>=0.4 in /opt/conda/envs/sagemaker-distribution/lib/python3.8/site-packages (from pytorch3d) (0.15.2a0+072ec57)\n",
      "Requirement already satisfied: fvcore in /opt/conda/envs/sagemaker-distribution/lib/python3.8/site-packages (from pytorch3d) (0.1.5.post20221221)\n",
      "Requirement already satisfied: numpy in /opt/conda/envs/sagemaker-distribution/lib/python3.8/site-packages (from torchvision>=0.4->pytorch3d) (1.24.4)\n",
      "Requirement already satisfied: requests in /opt/conda/envs/sagemaker-distribution/lib/python3.8/site-packages (from torchvision>=0.4->pytorch3d) (2.31.0)\n",
      "Requirement already satisfied: torch in /opt/conda/envs/sagemaker-distribution/lib/python3.8/site-packages (from torchvision>=0.4->pytorch3d) (2.0.0.post200)\n",
      "Requirement already satisfied: pillow!=8.3.*,>=5.3.0 in /opt/conda/envs/sagemaker-distribution/lib/python3.8/site-packages (from torchvision>=0.4->pytorch3d) (10.0.0)\n",
      "Requirement already satisfied: yacs>=0.1.6 in /opt/conda/envs/sagemaker-distribution/lib/python3.8/site-packages (from fvcore->pytorch3d) (0.1.8)\n",
      "Requirement already satisfied: pyyaml>=5.1 in /opt/conda/envs/sagemaker-distribution/lib/python3.8/site-packages (from fvcore->pytorch3d) (6.0)\n",
      "Requirement already satisfied: tqdm in /opt/conda/envs/sagemaker-distribution/lib/python3.8/site-packages (from fvcore->pytorch3d) (4.65.0)\n",
      "Requirement already satisfied: termcolor>=1.1 in /opt/conda/envs/sagemaker-distribution/lib/python3.8/site-packages (from fvcore->pytorch3d) (2.3.0)\n",
      "Requirement already satisfied: tabulate in /opt/conda/envs/sagemaker-distribution/lib/python3.8/site-packages (from fvcore->pytorch3d) (0.9.0)\n",
      "Requirement already satisfied: iopath>=0.1.7 in /opt/conda/envs/sagemaker-distribution/lib/python3.8/site-packages (from fvcore->pytorch3d) (0.1.10)\n",
      "Requirement already satisfied: typing-extensions in /opt/conda/envs/sagemaker-distribution/lib/python3.8/site-packages (from iopath>=0.1.7->fvcore->pytorch3d) (4.5.0)\n",
      "Requirement already satisfied: portalocker in /opt/conda/envs/sagemaker-distribution/lib/python3.8/site-packages (from iopath>=0.1.7->fvcore->pytorch3d) (2.7.0)\n",
      "Requirement already satisfied: charset-normalizer<4,>=2 in /opt/conda/envs/sagemaker-distribution/lib/python3.8/site-packages (from requests->torchvision>=0.4->pytorch3d) (3.2.0)\n",
      "Requirement already satisfied: idna<4,>=2.5 in /opt/conda/envs/sagemaker-distribution/lib/python3.8/site-packages (from requests->torchvision>=0.4->pytorch3d) (3.4)\n",
      "Requirement already satisfied: urllib3<3,>=1.21.1 in /opt/conda/envs/sagemaker-distribution/lib/python3.8/site-packages (from requests->torchvision>=0.4->pytorch3d) (1.26.15)\n",
      "Requirement already satisfied: certifi>=2017.4.17 in /opt/conda/envs/sagemaker-distribution/lib/python3.8/site-packages (from requests->torchvision>=0.4->pytorch3d) (2023.7.22)\n",
      "Requirement already satisfied: filelock in /opt/conda/envs/sagemaker-distribution/lib/python3.8/site-packages (from torch->torchvision>=0.4->pytorch3d) (3.12.2)\n",
      "Requirement already satisfied: sympy in /opt/conda/envs/sagemaker-distribution/lib/python3.8/site-packages (from torch->torchvision>=0.4->pytorch3d) (1.12)\n",
      "Requirement already satisfied: networkx in /opt/conda/envs/sagemaker-distribution/lib/python3.8/site-packages (from torch->torchvision>=0.4->pytorch3d) (3.1)\n",
      "Requirement already satisfied: jinja2 in /opt/conda/envs/sagemaker-distribution/lib/python3.8/site-packages (from torch->torchvision>=0.4->pytorch3d) (3.1.2)\n",
      "Requirement already satisfied: MarkupSafe>=2.0 in /opt/conda/envs/sagemaker-distribution/lib/python3.8/site-packages (from jinja2->torch->torchvision>=0.4->pytorch3d) (2.1.3)\n",
      "Requirement already satisfied: mpmath>=0.19 in /opt/conda/envs/sagemaker-distribution/lib/python3.8/site-packages (from sympy->torch->torchvision>=0.4->pytorch3d) (1.3.0)\n"
     ]
    }
   ],
   "source": [
    "import sys\n",
    "import torch\n",
    "pyt_version_str=torch.__version__.split(\"+\")[0].replace(\".\", \"\")\n",
    "version_str=\"\".join([\n",
    "    f\"py3{sys.version_info.minor}_cu\",\n",
    "    torch.version.cuda.replace(\".\",\"\"),\n",
    "    f\"_pyt{pyt_version_str}\"\n",
    "])\n",
    "!pip install fvcore iopath\n",
    "!pip install --no-index --no-cache-dir pytorch3d -f https://dl.fbaipublicfiles.com/pytorch3d/packaging/wheels/{version_str}/download.html"
   ]
  },
  {
   "cell_type": "code",
   "execution_count": 102,
   "id": "fbf3010d-4fdf-4d4c-8b07-34f73f0c2e36",
   "metadata": {
    "tags": []
   },
   "outputs": [
    {
     "name": "stdout",
     "output_type": "stream",
     "text": [
      "/home/studio-lab-user/pfiuhd/pifuhd\n"
     ]
    }
   ],
   "source": [
    "cd /home/studio-lab-user/pfiuhd/pifuhd/"
   ]
  },
  {
   "cell_type": "code",
   "execution_count": null,
   "id": "23069380-ce50-457b-84e4-e537d7b66c40",
   "metadata": {
    "tags": []
   },
   "outputs": [],
   "source": [
    "import os"
   ]
  },
  {
   "cell_type": "code",
   "execution_count": null,
   "id": "25e2fb92-c46f-4f77-8243-f8188116465a",
   "metadata": {
    "tags": []
   },
   "outputs": [],
   "source": [
    "os.getcwd()"
   ]
  },
  {
   "cell_type": "code",
   "execution_count": null,
   "id": "8fa53f5e-d91a-446b-81f7-187202b50208",
   "metadata": {
    "tags": []
   },
   "outputs": [],
   "source": [
    "cd /home/studio-lab-user/pfiuhd/pifuhd/"
   ]
  },
  {
   "cell_type": "code",
   "execution_count": null,
   "id": "0fd08f86-f976-4cd9-8553-88dfe85662c2",
   "metadata": {},
   "outputs": [],
   "source": []
  },
  {
   "cell_type": "code",
   "execution_count": null,
   "id": "8dfaeac8-d7c4-4401-bf69-60d66e615486",
   "metadata": {},
   "outputs": [],
   "source": []
  },
  {
   "cell_type": "code",
   "execution_count": null,
   "id": "7621af3e-46ae-4287-9554-bc0c251d5c14",
   "metadata": {},
   "outputs": [],
   "source": []
  },
  {
   "cell_type": "code",
   "execution_count": null,
   "id": "aedf447f-195a-4cd8-9a6b-a397c25f4eeb",
   "metadata": {},
   "outputs": [],
   "source": []
  },
  {
   "cell_type": "code",
   "execution_count": null,
   "id": "f138eec3-79d3-4b00-b936-548aa04e79f3",
   "metadata": {},
   "outputs": [],
   "source": []
  },
  {
   "cell_type": "code",
   "execution_count": null,
   "id": "16cb6cc8-2886-4ef8-921c-8485e6b0d88f",
   "metadata": {},
   "outputs": [],
   "source": []
  }
 ],
 "metadata": {
  "kernelspec": {
   "display_name": "sagemaker-distribution:Python",
   "language": "python",
   "name": "conda-env-sagemaker-distribution-py"
  },
  "language_info": {
   "codemirror_mode": {
    "name": "ipython",
    "version": 3
   },
   "file_extension": ".py",
   "mimetype": "text/x-python",
   "name": "python",
   "nbconvert_exporter": "python",
   "pygments_lexer": "ipython3",
   "version": "3.8.17"
  }
 },
 "nbformat": 4,
 "nbformat_minor": 5
}
